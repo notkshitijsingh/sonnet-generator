{
 "cells": [
  {
   "cell_type": "markdown",
   "id": "60a6e595",
   "metadata": {},
   "source": [
    "# Text Generator\n",
    "This is a submission for the task round at the AI & ML Core Team recruitment for Mozilla FireFox Club at VIT Bhopal by Kshitij Singh."
   ]
  },
  {
   "cell_type": "markdown",
   "id": "eca3f038",
   "metadata": {},
   "source": [
    "### Importing necessary libraries"
   ]
  },
  {
   "cell_type": "code",
   "execution_count": 66,
   "id": "65a94739",
   "metadata": {},
   "outputs": [],
   "source": [
    "import numpy as np\n",
    "import pandas as pd\n",
    "from keras.models import Sequential\n",
    "from keras.layers import Dense\n",
    "from keras.layers import Dropout\n",
    "from keras.layers import LSTM\n",
    "from keras.layers import RNN\n",
    "from keras.utils import np_utils"
   ]
  },
  {
   "cell_type": "markdown",
   "id": "3813befd",
   "metadata": {},
   "source": [
    "### Loading the data\n",
    "In this case, I'll be using the [following data](https://www.gutenberg.org/cache/epub/1041/pg1041.txt) for training."
   ]
  },
  {
   "cell_type": "code",
   "execution_count": 67,
   "id": "4419863e",
   "metadata": {},
   "outputs": [],
   "source": [
    "data = (open(\"data.txt\").read()).lower()"
   ]
  },
  {
   "cell_type": "markdown",
   "id": "eeb2f204",
   "metadata": {},
   "source": [
    "### Creating mappings\n",
    "This is just simply me assigning numbers to characters, nothing fancy."
   ]
  },
  {
   "cell_type": "code",
   "execution_count": 68,
   "id": "eb67e310",
   "metadata": {},
   "outputs": [],
   "source": [
    "characters = sorted(list(set(data)))\n",
    "n_to_char = {n:char for n, char in enumerate(characters)}\n",
    "char_to_n = {char:n for n, char in enumerate(characters)}"
   ]
  },
  {
   "cell_type": "markdown",
   "id": "a73031f9",
   "metadata": {},
   "source": [
    "### Data preprocessing\n",
    "We're using a LSTM model, or Long Short-Term Memory Model.\n",
    "\n",
    "Here,\n",
    "_X_ is my train array and _Y_ is my target array. _seq_length_ is the length of the sequence of characters that we want to consider before predicting a particular character."
   ]
  },
  {
   "cell_type": "code",
   "execution_count": 69,
   "id": "78a30026",
   "metadata": {},
   "outputs": [],
   "source": [
    "X = []\n",
    "Y = []\n",
    "length = len(data)\n",
    "seq_length = 100\n",
    "\n",
    "for i in range(0, length-seq_length, 1):\n",
    "    sequence = data[i:i + seq_length]\n",
    "    label =data[i + seq_length]\n",
    "    X.append([char_to_n[char] for char in sequence])\n",
    "    Y.append(char_to_n[label])"
   ]
  },
  {
   "cell_type": "markdown",
   "id": "c86c9e4d",
   "metadata": {},
   "source": [
    "Since a LSTM model accepts in form of _**(number_of_sequences, length_of_sequence, number_of_features)**_, let's change our arrays into that form."
   ]
  },
  {
   "cell_type": "code",
   "execution_count": 70,
   "id": "e9ba752e",
   "metadata": {},
   "outputs": [],
   "source": [
    "X_modified = np.reshape(X, (len(X), seq_length, 1))\n",
    "X_modified = X_modified / float(len(characters))\n",
    "Y_modified = np_utils.to_categorical(Y)"
   ]
  },
  {
   "cell_type": "markdown",
   "id": "09582568",
   "metadata": {},
   "source": [
    "### The Model\n",
    "This will be a sequential model with four layers of 400 units each."
   ]
  },
  {
   "cell_type": "code",
   "execution_count": 73,
   "id": "3222895f",
   "metadata": {},
   "outputs": [],
   "source": [
    "model = Sequential()\n",
    "model.add(LSTM(400, input_shape=(X_modified.shape[1], X_modified.shape[2]), return_sequences=True))\n",
    "model.add(Dropout(0.2))\n",
    "model.add(LSTM(400, return_sequences=True))\n",
    "model.add(Dropout(0.2))\n",
    "model.add(LSTM(400))\n",
    "model.add(Dropout(0.2))\n",
    "model.add(Dense(Y_modified.shape[1], activation='softmax'))\n",
    "\n",
    "model.compile(loss='categorical_crossentropy', optimizer='adam')"
   ]
  },
  {
   "cell_type": "code",
   "execution_count": 85,
   "id": "0f15636f",
   "metadata": {},
   "outputs": [
    {
     "name": "stdout",
     "output_type": "stream",
     "text": [
      "Epoch 1/100\n",
      "1978/1978 [========================================] - 961ms/step - loss: 3.2829\n",
      "Epoch 2/100\n",
      "1978/1978 [========================================] - 940ms/step - loss: 3.2409\n",
      "Epoch 3/100\n",
      "1978/1978 [========================================] - 940ms/step - loss: 3.2279\n",
      "Epoch 4/100\n",
      "1978/1978 [========================================] - 951ms/step - loss: 3.1949\n",
      "Epoch 5/100\n",
      "1978/1978 [========================================] - 951ms/step - loss: 3.1719\n",
      "Epoch 6/100\n",
      "1978/1978 [========================================] - 940ms/step - loss: 3.1519\n",
      "Epoch 7/100\n",
      "1978/1978 [========================================] - 940ms/step - loss: 3.1339\n",
      "Epoch 8/100\n",
      "1978/1978 [========================================] - 950ms/step - loss: 3.1119\n",
      "Epoch 9/100\n",
      "1978/1978 [========================================] - 948ms/step - loss: 3.0909\n",
      "Epoch 10/100\n",
      "1978/1978 [========================================] - 955ms/step - loss: 3.0599\n",
      "Epoch 11/100\n",
      "1978/1978 [========================================] - 958ms/step - loss: 3.0169\n",
      "Epoch 12/100\n",
      "1978/1978 [========================================] - 961ms/step - loss: 2.9829\n",
      "Epoch 13/100\n",
      "1978/1978 [========================================] - 957ms/step - loss: 2.9749\n",
      "Epoch 14/100\n",
      "1978/1978 [========================================] - 942ms/step - loss: 2.9349\n",
      "Epoch 15/100\n",
      "1978/1978 [========================================] - 959ms/step - loss: 2.9209\n",
      "Epoch 16/100\n",
      "1978/1978 [========================================] - 957ms/step - loss: 2.9039\n",
      "Epoch 17/100\n",
      "1978/1978 [========================================] - 954ms/step - loss: 2.8839\n",
      "Epoch 18/100\n",
      "1978/1978 [========================================] - 940ms/step - loss: 2.8429\n",
      "Epoch 19/100\n",
      "1978/1978 [========================================] - 941ms/step - loss: 2.8169\n",
      "Epoch 20/100\n",
      "1978/1978 [========================================] - 961ms/step - loss: 2.7839\n",
      "Epoch 21/100\n",
      "1978/1978 [========================================] - 952ms/step - loss: 2.7759\n",
      "Epoch 22/100\n",
      "1978/1978 [========================================] - 950ms/step - loss: 2.7439\n",
      "Epoch 23/100\n",
      "1978/1978 [========================================] - 953ms/step - loss: 2.7039\n",
      "Epoch 24/100\n",
      "1978/1978 [========================================] - 960ms/step - loss: 2.6869\n",
      "Epoch 25/100\n",
      "1978/1978 [========================================] - 943ms/step - loss: 2.6719\n",
      "Epoch 26/100\n",
      "1978/1978 [========================================] - 935ms/step - loss: 2.6369\n",
      "Epoch 27/100\n",
      "1978/1978 [========================================] - 947ms/step - loss: 2.6179\n",
      "Epoch 28/100\n",
      "1978/1978 [========================================] - 949ms/step - loss: 2.6069\n",
      "Epoch 29/100\n",
      "1978/1978 [========================================] - 961ms/step - loss: 2.5869\n",
      "Epoch 30/100\n",
      "1978/1978 [========================================] - 949ms/step - loss: 2.5759\n",
      "Epoch 31/100\n",
      "1978/1978 [========================================] - 946ms/step - loss: 2.5449\n",
      "Epoch 32/100\n",
      "1978/1978 [========================================] - 941ms/step - loss: 2.5139\n",
      "Epoch 33/100\n",
      "1978/1978 [========================================] - 949ms/step - loss: 2.4859\n",
      "Epoch 34/100\n",
      "1978/1978 [========================================] - 942ms/step - loss: 2.4709\n",
      "Epoch 35/100\n",
      "1978/1978 [========================================] - 959ms/step - loss: 2.4469\n",
      "Epoch 36/100\n",
      "1978/1978 [========================================] - 948ms/step - loss: 2.4269\n",
      "Epoch 37/100\n",
      "1978/1978 [========================================] - 951ms/step - loss: 2.4029\n",
      "Epoch 38/100\n",
      "1978/1978 [========================================] - 935ms/step - loss: 2.3689\n",
      "Epoch 39/100\n",
      "1978/1978 [========================================] - 961ms/step - loss: 2.3309\n",
      "Epoch 40/100\n",
      "1978/1978 [========================================] - 943ms/step - loss: 2.2949\n",
      "Epoch 41/100\n",
      "1978/1978 [========================================] - 943ms/step - loss: 2.2619\n",
      "Epoch 42/100\n",
      "1978/1978 [========================================] - 955ms/step - loss: 2.2319\n",
      "Epoch 43/100\n",
      "1978/1978 [========================================] - 951ms/step - loss: 2.2099\n",
      "Epoch 44/100\n",
      "1978/1978 [========================================] - 946ms/step - loss: 2.1689\n",
      "Epoch 45/100\n",
      "1978/1978 [========================================] - 959ms/step - loss: 2.1559\n",
      "Epoch 46/100\n",
      "1978/1978 [========================================] - 939ms/step - loss: 2.1369\n",
      "Epoch 47/100\n",
      "1978/1978 [========================================] - 960ms/step - loss: 2.1079\n",
      "Epoch 48/100\n",
      "1978/1978 [========================================] - 954ms/step - loss: 2.0929\n",
      "Epoch 49/100\n",
      "1978/1978 [========================================] - 950ms/step - loss: 2.0619\n",
      "Epoch 50/100\n",
      "1978/1978 [========================================] - 938ms/step - loss: 2.0329\n",
      "Epoch 51/100\n",
      "1978/1978 [========================================] - 942ms/step - loss: 2.0219\n",
      "Epoch 52/100\n",
      "1978/1978 [========================================] - 944ms/step - loss: 1.9809\n",
      "Epoch 53/100\n",
      "1978/1978 [========================================] - 942ms/step - loss: 1.9429\n",
      "Epoch 54/100\n",
      "1978/1978 [========================================] - 954ms/step - loss: 1.9169\n",
      "Epoch 55/100\n",
      "1978/1978 [========================================] - 940ms/step - loss: 1.8999\n",
      "Epoch 56/100\n",
      "1978/1978 [========================================] - 949ms/step - loss: 1.8719\n",
      "Epoch 57/100\n",
      "1978/1978 [========================================] - 943ms/step - loss: 1.8429\n",
      "Epoch 58/100\n",
      "1978/1978 [========================================] - 946ms/step - loss: 1.8269\n",
      "Epoch 59/100\n",
      "1978/1978 [========================================] - 952ms/step - loss: 1.7909\n",
      "Epoch 60/100\n",
      "1978/1978 [========================================] - 935ms/step - loss: 1.7749\n",
      "Epoch 61/100\n",
      "1978/1978 [========================================] - 936ms/step - loss: 1.7489\n",
      "Epoch 62/100\n",
      "1978/1978 [========================================] - 960ms/step - loss: 1.7069\n",
      "Epoch 63/100\n",
      "1978/1978 [========================================] - 960ms/step - loss: 1.6949\n",
      "Epoch 64/100\n",
      "1978/1978 [========================================] - 959ms/step - loss: 1.6669\n",
      "Epoch 65/100\n",
      "1978/1978 [========================================] - 940ms/step - loss: 1.6339\n",
      "Epoch 66/100\n",
      "1978/1978 [========================================] - 950ms/step - loss: 1.5989\n",
      "Epoch 67/100\n",
      "1978/1978 [========================================] - 952ms/step - loss: 1.5839\n",
      "Epoch 68/100\n",
      "1978/1978 [========================================] - 940ms/step - loss: 1.5449\n",
      "Epoch 69/100\n",
      "1978/1978 [========================================] - 942ms/step - loss: 1.5329\n",
      "Epoch 70/100\n",
      "1978/1978 [========================================] - 941ms/step - loss: 1.5079\n",
      "Epoch 71/100\n",
      "1978/1978 [========================================] - 952ms/step - loss: 1.4759\n",
      "Epoch 72/100\n",
      "1978/1978 [========================================] - 955ms/step - loss: 1.4419\n",
      "Epoch 73/100\n",
      "1978/1978 [========================================] - 955ms/step - loss: 1.4049\n",
      "Epoch 74/100\n",
      "1978/1978 [========================================] - 957ms/step - loss: 1.3859\n",
      "Epoch 75/100\n",
      "1978/1978 [========================================] - 936ms/step - loss: 1.3789\n",
      "Epoch 76/100\n",
      "1978/1978 [========================================] - 959ms/step - loss: 1.3639\n",
      "Epoch 77/100\n",
      "1978/1978 [========================================] - 945ms/step - loss: 1.3519\n",
      "Epoch 78/100\n",
      "1978/1978 [========================================] - 943ms/step - loss: 1.3089\n",
      "Epoch 79/100\n",
      "1978/1978 [========================================] - 955ms/step - loss: 1.2669\n",
      "Epoch 80/100\n",
      "1978/1978 [========================================] - 938ms/step - loss: 1.2439\n",
      "Epoch 81/100\n",
      "1978/1978 [========================================] - 950ms/step - loss: 1.2179\n",
      "Epoch 82/100\n",
      "1978/1978 [========================================] - 945ms/step - loss: 1.1819\n",
      "Epoch 83/100\n",
      "1978/1978 [========================================] - 953ms/step - loss: 1.1459\n",
      "Epoch 84/100\n",
      "1978/1978 [========================================] - 947ms/step - loss: 1.1289\n",
      "Epoch 85/100\n",
      "1978/1978 [========================================] - 938ms/step - loss: 1.0939\n",
      "Epoch 86/100\n",
      "1978/1978 [========================================] - 943ms/step - loss: 1.0849\n",
      "Epoch 87/100\n",
      "1978/1978 [========================================] - 946ms/step - loss: 1.0459\n",
      "Epoch 88/100\n",
      "1978/1978 [========================================] - 953ms/step - loss: 1.0189\n",
      "Epoch 89/100\n",
      "1978/1978 [========================================] - 936ms/step - loss: 0.9859\n",
      "Epoch 90/100\n",
      "1978/1978 [========================================] - 960ms/step - loss: 0.9559\n",
      "Epoch 91/100\n",
      "1978/1978 [========================================] - 949ms/step - loss: 0.9459\n",
      "Epoch 92/100\n",
      "1978/1978 [========================================] - 942ms/step - loss: 0.9169\n",
      "Epoch 93/100\n",
      "1978/1978 [========================================] - 950ms/step - loss: 0.8759\n",
      "Epoch 94/100\n",
      "1978/1978 [========================================] - 941ms/step - loss: 0.8589\n",
      "Epoch 95/100\n",
      "1978/1978 [========================================] - 959ms/step - loss: 0.8159\n",
      "Epoch 96/100\n",
      "1978/1978 [========================================] - 936ms/step - loss: 0.7839\n",
      "Epoch 97/100\n",
      "1978/1978 [========================================] - 961ms/step - loss: 0.7649\n",
      "Epoch 98/100\n",
      "1978/1978 [========================================] - 946ms/step - loss: 0.7399\n",
      "Epoch 99/100\n",
      "1978/1978 [========================================] - 941ms/step - loss: 0.7059\n",
      "Epoch 100/100\n",
      "1978/1978 [========================================] - 957ms/step - loss: 0.6969\n"
     ]
    }
   ],
   "source": [
    "model.fit(X_modified, Y_modified, epochs=100, batch_size=50)\n",
    "\n",
    "model.save_weights('text_generator_400_0.2_400_0.2_100.h5')"
   ]
  },
  {
   "cell_type": "markdown",
   "id": "0de12e11",
   "metadata": {},
   "source": [
    "### Generating Text\n",
    "Let's try to get an output with the model so far."
   ]
  },
  {
   "cell_type": "code",
   "execution_count": 86,
   "id": "3f30486e",
   "metadata": {},
   "outputs": [],
   "source": [
    "string_mapped = X[20]\n",
    "full_string = [n_to_char[value] for value in string_mapped]\n",
    "\n",
    "for i in range(400):\n",
    "    x = np.reshape(string_mapped,(1,len(string_mapped), 1))\n",
    "    x = x / float(len(characters))\n",
    "\n",
    "    pred_index = np.argmax(model.predict(x, verbose=0))\n",
    "    seq = [n_to_char[value] for value in string_mapped]\n",
    "    full_string.append(n_to_char[pred_index])\n",
    "\n",
    "    string_mapped.append(pred_index)\n",
    "    string_mapped = string_mapped[1:len(string_mapped)]"
   ]
  },
  {
   "cell_type": "code",
   "execution_count": 87,
   "id": "117e15d0",
   "metadata": {},
   "outputs": [
    {
     "name": "stdout",
     "output_type": "stream",
     "text": [
      "atures we desire increase,\n",
      " that thereby beauty's rose might never die,\n",
      " but as the riper should by tore doth lind,\n",
      " the rearon of touth with silesl eais,\n",
      " hase out on pecsons me thy self doth light,\n",
      " the rones of south with fearting soueht;\n",
      " and bot the rearon of thy fearty shought\n",
      " then to his soeer sell mot bontre commin'd,\n",
      " cearcs of thmes, for thy seals doth deater,\n",
      " for shat she sakk of many wail in me:\n",
      " thlce hate thene eyes dyer dare in eead,\n",
      " thou aanst not touth to wouth in mone:\n",
      " thy s\n"
     ]
    }
   ],
   "source": [
    "text=\"\"\n",
    "for char in full_string:\n",
    "    text = text+char\n",
    "print(text)"
   ]
  }
 ],
 "metadata": {
  "kernelspec": {
   "display_name": "Python 3 (ipykernel)",
   "language": "python",
   "name": "python3"
  },
  "language_info": {
   "codemirror_mode": {
    "name": "ipython",
    "version": 3
   },
   "file_extension": ".py",
   "mimetype": "text/x-python",
   "name": "python",
   "nbconvert_exporter": "python",
   "pygments_lexer": "ipython3",
   "version": "3.10.5"
  }
 },
 "nbformat": 4,
 "nbformat_minor": 5
}
